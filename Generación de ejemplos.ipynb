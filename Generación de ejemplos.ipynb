{
 "cells": [
  {
   "cell_type": "markdown",
   "metadata": {},
   "source": [
    "# Generación de ejemplos"
   ]
  },
  {
   "cell_type": "markdown",
   "metadata": {},
   "source": [
    "Genero ejemplos de metadatos a partir del ejemplo de `data.json`."
   ]
  },
  {
   "cell_type": "code",
   "execution_count": 87,
   "metadata": {
    "collapsed": true
   },
   "outputs": [],
   "source": [
    "from __future__ import unicode_literals\n",
    "import json\n",
    "from pprint import pprint\n",
    "from functools import partial\n",
    "from IPython.display import Markdown, display\n",
    "def printmd(string):\n",
    "    display(Markdown(string))"
   ]
  },
  {
   "cell_type": "code",
   "execution_count": 88,
   "metadata": {},
   "outputs": [],
   "source": [
    "with open(\"examples/data.json\", \"rb\") as f:\n",
    "    data = json.load(f)\n",
    "with open(\"meta_names.json\", \"rb\") as f:\n",
    "    meta_names = json.load(f)\n",
    "with open(\"meta_class_names.json\", \"rb\") as f:\n",
    "    meta_class_names = json.load(f)"
   ]
  },
  {
   "cell_type": "markdown",
   "metadata": {},
   "source": [
    "## Exploración del data.json"
   ]
  },
  {
   "cell_type": "code",
   "execution_count": 89,
   "metadata": {},
   "outputs": [
    {
     "name": "stdout",
     "output_type": "stream",
     "text": [
      "13\n"
     ]
    },
    {
     "data": {
      "text/plain": [
       "[u'rights',\n",
       " u'publisher',\n",
       " u'license',\n",
       " u'description',\n",
       " u'language',\n",
       " u'title',\n",
       " u'issued',\n",
       " u'superThemeTaxonomy',\n",
       " u'modified',\n",
       " u'themeTaxonomy',\n",
       " u'spatial',\n",
       " u'dataset',\n",
       " u'homepage']"
      ]
     },
     "execution_count": 89,
     "metadata": {},
     "output_type": "execute_result"
    }
   ],
   "source": [
    "# campos de metadata de un catalog\n",
    "print len(data)\n",
    "data.keys()"
   ]
  },
  {
   "cell_type": "code",
   "execution_count": 90,
   "metadata": {},
   "outputs": [
    {
     "name": "stdout",
     "output_type": "stream",
     "text": [
      "17\n"
     ]
    },
    {
     "data": {
      "text/plain": [
       "[u'publisher',\n",
       " u'landingPage',\n",
       " u'description',\n",
       " u'superTheme',\n",
       " u'title',\n",
       " u'issued',\n",
       " u'temporal',\n",
       " u'modified',\n",
       " u'language',\n",
       " u'theme',\n",
       " u'keyword',\n",
       " u'accrualPeriodicity',\n",
       " u'spatial',\n",
       " u'license',\n",
       " u'contactPoint',\n",
       " u'identifier',\n",
       " u'distribution']"
      ]
     },
     "execution_count": 90,
     "metadata": {},
     "output_type": "execute_result"
    }
   ],
   "source": [
    "# campos de metadata de un dataset\n",
    "print len(data[\"dataset\"][0].keys())\n",
    "data[\"dataset\"][0].keys()"
   ]
  },
  {
   "cell_type": "code",
   "execution_count": 91,
   "metadata": {},
   "outputs": [
    {
     "name": "stdout",
     "output_type": "stream",
     "text": [
      "12\n"
     ]
    },
    {
     "data": {
      "text/plain": [
       "[u'accessURL',\n",
       " u'rights',\n",
       " u'description',\n",
       " u'license',\n",
       " u'title',\n",
       " u'byteSize',\n",
       " u'format',\n",
       " u'mediaType',\n",
       " u'modified',\n",
       " u'downloadURL',\n",
       " u'field',\n",
       " u'issued']"
      ]
     },
     "execution_count": 91,
     "metadata": {},
     "output_type": "execute_result"
    }
   ],
   "source": [
    "# campos de metadata de un distribucion\n",
    "print len(data[\"dataset\"][0][\"distribution\"][0].keys())\n",
    "data[\"dataset\"][0][\"distribution\"][0].keys()"
   ]
  },
  {
   "cell_type": "code",
   "execution_count": 92,
   "metadata": {},
   "outputs": [
    {
     "name": "stdout",
     "output_type": "stream",
     "text": [
      "3\n"
     ]
    },
    {
     "data": {
      "text/plain": [
       "[u'type', u'description', u'title']"
      ]
     },
     "execution_count": 92,
     "metadata": {},
     "output_type": "execute_result"
    }
   ],
   "source": [
    "# campos de metadata de un field\n",
    "print len(data[\"dataset\"][0][\"distribution\"][0][\"field\"][0].keys())\n",
    "data[\"dataset\"][0][\"distribution\"][0][\"field\"][0].keys()"
   ]
  },
  {
   "cell_type": "code",
   "execution_count": 93,
   "metadata": {},
   "outputs": [
    {
     "name": "stdout",
     "output_type": "stream",
     "text": [
      "3\n"
     ]
    },
    {
     "data": {
      "text/plain": [
       "[u'description', u'id', u'label']"
      ]
     },
     "execution_count": 93,
     "metadata": {},
     "output_type": "execute_result"
    }
   ],
   "source": [
    "# campos de metadata de un theme\n",
    "print len(data[\"themeTaxonomy\"][0].keys())\n",
    "data[\"themeTaxonomy\"][0].keys()"
   ]
  },
  {
   "cell_type": "markdown",
   "metadata": {},
   "source": [
    "## Separación de ejemplos en JSON"
   ]
  },
  {
   "cell_type": "code",
   "execution_count": 94,
   "metadata": {},
   "outputs": [],
   "source": [
    "def write_to_json(example_name, example):\n",
    "    with open(\"examples/{}.json\".format(example_name), \"wb\") as f:\n",
    "        f.write(json.dumps(example, f, indent=4, ensure_ascii=False).encode(\"utf8\"))"
   ]
  },
  {
   "cell_type": "code",
   "execution_count": 95,
   "metadata": {},
   "outputs": [],
   "source": [
    "write_to_json(\"dataset\", data[\"dataset\"][0])\n",
    "write_to_json(\"distribution\", data[\"dataset\"][0][\"distribution\"][0])\n",
    "write_to_json(\"field\", data[\"dataset\"][0][\"distribution\"][0][\"field\"][0])\n",
    "write_to_json(\"theme\", data[\"themeTaxonomy\"][0])\n",
    "write_to_json(\"themeTaxonomy\", data[\"themeTaxonomy\"])"
   ]
  },
  {
   "cell_type": "markdown",
   "metadata": {},
   "source": [
    "## Creación de ejemplos en Markdown"
   ]
  },
  {
   "cell_type": "markdown",
   "metadata": {},
   "source": [
    "### Catálogo"
   ]
  },
  {
   "cell_type": "markdown",
   "metadata": {},
   "source": [
    "Secciones de un documento de metadata a nivel de dataset.\n",
    "\n",
    "1. Título\n",
    "2. Descripción\n",
    "3. Características (metadatos del dataset)\n",
    "4. Distribuciones\n",
    "    * Título\n",
    "    * Resto de los metadatos\n",
    "    * Campos\n",
    "        + nombre (tipo): descripción"
   ]
  },
  {
   "cell_type": "code",
   "execution_count": 111,
   "metadata": {},
   "outputs": [],
   "source": [
    "def metadata_to_md(meta_obj, meta_names, meta_class_names, \n",
    "                   ignore_fields=[\"title\", \"description\"], level=1, meta_class=\"catalog\"):\n",
    "    \"\"\"Convierte metadatos a nivel de dataset o distribución en markdown.\"\"\"\n",
    "\n",
    "    # se asume que el objeto de metadata tiene un título y una descripción\n",
    "    metadatos = []\n",
    "    metadatos.append(\"{head_level} {class_name}: {title}\".format(\n",
    "        head_level=\"#\" * level,\n",
    "        class_name = meta_class_names[meta_class], \n",
    "        title=meta_obj[\"title\"])\n",
    "    )\n",
    "    metadatos.append(meta_obj[\"description\"])\n",
    "    \n",
    "    # construyo el md de la metadata a nivel de dataset o distribución\n",
    "    \n",
    "    # primero agrego los campos simples, los de nuevas secciones se hacen al final\n",
    "    new_sections = []\n",
    "    for meta_field in meta_obj:\n",
    "        if meta_field not in ignore_fields:\n",
    "            # parseo los campos según el tipo de valor que tienen\n",
    "            \n",
    "            # listas de objetos son nueva sección del documento, al final de todo\n",
    "            if type(meta_obj[meta_field]) == list and type(meta_obj[meta_field][0]) == dict:\n",
    "                new_sections.append(meta_field)\n",
    "            \n",
    "            # las listas son valores separados por coma\n",
    "            elif type(meta_obj[meta_field]) == list:\n",
    "                meta_value = \", \".join(meta_obj[meta_field])\n",
    "                meta_field_name = meta_names[meta_class][meta_field]\n",
    "                metadatos.append(\"* **{}:** {}\".format(meta_field_name, meta_value))\n",
    "            \n",
    "            # los objetos conforman sublistas\n",
    "            elif type(meta_obj[meta_field]) == dict:\n",
    "                for meta_sub_field in meta_obj[meta_field]:\n",
    "                    meta_value = meta_obj[meta_field][meta_sub_field]\n",
    "                    meta_sub_field_name = meta_names[meta_class][meta_field][meta_sub_field]\n",
    "                    metadatos.append(\"* **{}**: {}\".format(meta_sub_field_name, meta_value))\n",
    "                \n",
    "            # el resto sigue como viene..\n",
    "            else:\n",
    "                meta_value = meta_obj[meta_field]\n",
    "                meta_field_name = meta_names[meta_class][meta_field]\n",
    "                metadatos.append(\"* **{}:** {}\".format(meta_field_name, meta_value))\n",
    "    \n",
    "    # ahora parseo los campos que configuran nuevas secciones\n",
    "    for meta_field in new_sections:\n",
    "        if meta_field not in ignore_fields:\n",
    "            \n",
    "            # las listas de objetos \"field\" se parsean de manera específica\n",
    "            if type(meta_obj[meta_field]) == list and meta_field == \"field\":\n",
    "                metadatos.append(\"#\" * (level + 1) + \" \" + meta_names[meta_class][meta_field])\n",
    "                for field in meta_obj[meta_field]:\n",
    "                    metadatos.append(\"* **{} ({})**: {}\".format(\n",
    "                        field[\"title\"], field[\"type\"], field[\"description\"]))                    \n",
    "            \n",
    "            # las listas de objetos \"theme\" se parsean de manera específica\n",
    "            elif type(meta_obj[meta_field]) == list and meta_field == \"themeTaxonomy\":\n",
    "                metadatos.append(\"#\" * (level + 1) + \" \" + meta_names[meta_class][meta_field])\n",
    "                for field in meta_obj[meta_field]:\n",
    "                    metadatos.append(\"* **{} ({})**: {}\".format(\n",
    "                        field[\"label\"], field[\"id\"], field[\"description\"]))                    \n",
    "            \n",
    "            # las listas de objetos se parsean como una nueva sección del documento\n",
    "            else:\n",
    "                metadatos.append(\"#\" * (level + 1) + \" \" + meta_names[meta_class][meta_field])\n",
    "                for sub_meta_obj in meta_obj[meta_field]:\n",
    "                    metadatos.extend(metadata_to_md(sub_meta_obj, meta_names, meta_class_names, \n",
    "                                                    level=level + 2, meta_class=meta_field))\n",
    "    \n",
    "    return metadatos"
   ]
  },
  {
   "cell_type": "code",
   "execution_count": 112,
   "metadata": {},
   "outputs": [],
   "source": [
    "def datajson_to_markdown(datajson, meta_names, meta_class_names, meta_class=\"catalog\"):\n",
    "    \"\"\"Convierte metadatos de un dataset a markdown.\"\"\"\n",
    "    return \"\\n\\n\".join(metadata_to_md(datajson, meta_names, meta_class_names, meta_class=meta_class))"
   ]
  },
  {
   "cell_type": "code",
   "execution_count": 103,
   "metadata": {},
   "outputs": [
    {
     "name": "stdout",
     "output_type": "stream",
     "text": [
      "Automatic pdb calling has been turned ON\n"
     ]
    },
    {
     "data": {
      "text/markdown": [
       "# Catálogo: Datos Argentina\n",
       "\n",
       "Portal de Datos Abiertos del Gobierno de la República Argentina\n",
       "\n",
       "* **Derechos sobre el catálogo:** Derechos especificados en la licencia.\n",
       "\n",
       "* **Correo electrónico del autor**: datosargentina@jefatura.gob.ar\n",
       "\n",
       "* **Autor**: Ministerio de Modernización\n",
       "\n",
       "* **Licencia:** Open Data Commons Open Database License 1.0\n",
       "\n",
       "* **Idioma(s):** spa\n",
       "\n",
       "* **Fecha de creación o publicación:** 2016-04-14T19:48:05.433640-03:00\n",
       "\n",
       "* **Taxonomía temática global:** http://datos.gob.ar/superThemeTaxonomy.json\n",
       "\n",
       "* **Fecha de última actualización/modificación:** 2016-04-19T19:48:05.433640-03:00\n",
       "\n",
       "* **Cobertura geográfica:** ARG\n",
       "\n",
       "* **Página web del catálogo:** http://datos.gob.ar\n",
       "\n",
       "## Taxonomía temática específica\n",
       "\n",
       "* **Convocatorias (convocatorias)**: Datasets sobre licitaciones en estado de convocatoria.\n",
       "\n",
       "* **Compras (compras)**: Datasets sobre compras realizadas.\n",
       "\n",
       "* **Contrataciones (contrataciones)**: Datasets sobre contrataciones.\n",
       "\n",
       "* **Adjudicaciones (adjudicaciones)**: Datasets sobre licitaciones adjudicadas.\n",
       "\n",
       "* **Normativa (normativa)**: Datasets sobre normativa para compras y contrataciones.\n",
       "\n",
       "* **Proveedores (proveedores)**: Datasets sobre proveedores del Estado.\n",
       "\n",
       "## Datasets\n",
       "\n",
       "### Dataset: Sistema de contrataciones electrónicas\n",
       "\n",
       "Datos correspondientes al Sistema de Contrataciones Electrónicas (Argentina Compra)\n",
       "\n",
       "* **Correo electrónico del autor**: onc@modernizacion.gob.ar\n",
       "\n",
       "* **Autor**: Ministerio de Modernización. Secretaría de Modernización Administrativa. Oficina Nacional de Contrataciones\n",
       "\n",
       "* **Página de referencias:** http://datos.gob.ar/dataset/sistema-de-contrataciones-electronicas-argentina-compra\n",
       "\n",
       "* **Temática(s) globales:** ECON\n",
       "\n",
       "* **Fecha de publicación:** 2016-04-14T19:48:05.433640-03:00\n",
       "\n",
       "* **Cobertura temporal:** 2015-01-01/2015-12-31\n",
       "\n",
       "* **Fecha de última actualización/ modificación:** 2016-04-19T19:48:05.433640-03:00\n",
       "\n",
       "* **Idioma(s):** spa\n",
       "\n",
       "* **Temática(s) específicas:** contrataciones, compras, convocatorias\n",
       "\n",
       "* **Etiqueta(s):** bienes, compras, contrataciones\n",
       "\n",
       "* **Frecuencia de actualización:** R/P1Y\n",
       "\n",
       "* **Cobertura geográfica:** ARG\n",
       "\n",
       "* **Licencia:** Open Data Commons Open Database License 1.0\n",
       "\n",
       "* **Correo electrónico del área/persona de contacto**: onc-compraselectronicas@modernizacion.gob.ar\n",
       "\n",
       "* **Área/Persona de contacto**: Ministerio de Modernización. Secretaría de Modernización Administrativa. Oficina Nacional de Contrataciones. Dirección de Compras Electrónicas.\n",
       "\n",
       "* **Identificador:** 99db6631-d1c9-470b-a73e-c62daa32c420\n",
       "\n",
       "#### Distribuciones\n",
       "\n",
       "##### Distribución: Convocatorias abiertas durante el año 2015\n",
       "\n",
       "Listado de las convocatorias abiertas durante el año 2015 en el sistema de contrataciones electrónicas\n",
       "\n",
       "* **URL de acceso:** http://datos.gob.ar/dataset/sistema-de-contrataciones-electronicas-argentina-compra/archivo/fa3603b3-0af7-43cc-9da9-90a512217d8a\n",
       "\n",
       "* **Derechos sobre la distribución:** Derechos especificados en la licencia.\n",
       "\n",
       "* **Licencia:** Open Data Commons Open Database License 1.0\n",
       "\n",
       "* **Tamaño:** 5120\n",
       "\n",
       "* **Formato del archivo:** CSV\n",
       "\n",
       "* **Tipo de archivo:** text/csv\n",
       "\n",
       "* **Fecha de última actualización/ modificación:** 2016-04-19T19:48:05.433640-03:00\n",
       "\n",
       "* **URL de descarga:** http://186.33.211.253/dataset/99db6631-d1c9-470b-a73e-c62daa32c420/resource/4b7447cb-31ff-4352-96c3-589d212e1cc9/download/convocatorias-abiertas-anio-2015.csv\n",
       "\n",
       "* **Fecha de publicación:** 2016-04-14T19:48:05.433640-03:00\n",
       "\n",
       "###### Campos de la distribución\n",
       "\n",
       "* **procedimiento_id (integer)**: Identificador único del procedimiento de contratación\n",
       "\n",
       "* **organismo_unidad_operativa_contrataciones_id (integer)**: Identificador único del organismo que realiza la convocatoria. Organismo de máximo nivel jerárquico al que pertenece la unidad operativa de contrataciones.\n",
       "\n",
       "* **unidad_operativa_contrataciones_id (integer)**: Identificador único de la unidad operativa de contrataciones\n",
       "\n",
       "* **organismo_unidad_operativa_contrataciones_desc (string)**: Organismo que realiza la convocatoria. Organismo de máximo nivel jerárquico al que pertenece la unidad operativa de contrataciones.\n",
       "\n",
       "* **unidad_operativa_contrataciones_desc (string)**: Unidad operativa de contrataciones.\n",
       "\n",
       "* **tipo_procedimiento_contratacion (string)**: Tipo de procedimiento al que se adecua la contratación.\n",
       "\n",
       "* **ejercicio_procedimiento_anio (date)**: Año en el que se inició el proceso de la convocatoria.\n",
       "\n",
       "* **fecha_publicacion_convocatoria (date)**: Fecha de publicación de la convocatoria en formato AAAA-MM-DD, ISO 8601.\n",
       "\n",
       "* **modalidad_convocatoria (string)**: Modalidad bajo la cual se realiza la convocatoria.\n",
       "\n",
       "* **clase_convocatoria (string)**: Clase de la convocatoria.\n",
       "\n",
       "* **objeto_convocatoria (string)**: Objeto/objetivo de la convocatoria"
      ],
      "text/plain": [
       "<IPython.core.display.Markdown object>"
      ]
     },
     "metadata": {},
     "output_type": "display_data"
    }
   ],
   "source": [
    "%pdb\n",
    "catalogo = datajson_to_markdown(data, meta_names, meta_class_names)\n",
    "printmd(catalogo)"
   ]
  },
  {
   "cell_type": "markdown",
   "metadata": {},
   "source": [
    "### Genero ejemplos .md de todos los .json"
   ]
  },
  {
   "cell_type": "code",
   "execution_count": 106,
   "metadata": {},
   "outputs": [],
   "source": [
    "with open(\"examples/data.md\", \"wb\") as f:\n",
    "    f.write(catalogo.encode(\"utf8\"))"
   ]
  },
  {
   "cell_type": "code",
   "execution_count": 113,
   "metadata": {},
   "outputs": [],
   "source": [
    "with open(\"examples/dataset.md\", \"wb\") as a, open(\"examples/dataset.json\", \"r\") as b:\n",
    "    a.write(datajson_to_markdown(json.load(b), meta_names, meta_class_names, meta_class=\"dataset\").encode(\"utf8\"))"
   ]
  },
  {
   "cell_type": "code",
   "execution_count": 116,
   "metadata": {},
   "outputs": [],
   "source": [
    "with open(\"examples/distribution.md\", \"wb\") as a, open(\"examples/distribution.json\", \"r\") as b:\n",
    "    a.write(datajson_to_markdown(json.load(b), meta_names, meta_class_names, meta_class=\"distribution\").encode(\"utf8\"))"
   ]
  },
  {
   "cell_type": "code",
   "execution_count": null,
   "metadata": {
    "collapsed": true
   },
   "outputs": [],
   "source": [
    "with open(\"examples/field.md\", \"wb\") as a, open(\"examples/field.json\", \"r\") as b:\n",
    "    a.write(datajson_to_markdown(json.load(b), meta_names, meta_class_names, meta_class=\"distribution\").encode(\"utf8\"))"
   ]
  }
 ],
 "metadata": {
  "anaconda-cloud": {},
  "kernelspec": {
   "display_name": "Python 3",
   "language": "python",
   "name": "python3"
  },
  "language_info": {
   "codemirror_mode": {
    "name": "ipython",
    "version": 3
   },
   "file_extension": ".py",
   "mimetype": "text/x-python",
   "name": "python",
   "nbconvert_exporter": "python",
   "pygments_lexer": "ipython3",
   "version": "3.7.1"
  },
  "toc": {
   "colors": {
    "hover_highlight": "#DAA520",
    "running_highlight": "#FF0000",
    "selected_highlight": "#FFD700"
   },
   "moveMenuLeft": true,
   "nav_menu": {
    "height": "211.989px",
    "width": "251.989px"
   },
   "navigate_menu": true,
   "number_sections": true,
   "sideBar": true,
   "threshold": 4,
   "toc_cell": false,
   "toc_section_display": "block",
   "toc_window_display": false
  }
 },
 "nbformat": 4,
 "nbformat_minor": 1
}
